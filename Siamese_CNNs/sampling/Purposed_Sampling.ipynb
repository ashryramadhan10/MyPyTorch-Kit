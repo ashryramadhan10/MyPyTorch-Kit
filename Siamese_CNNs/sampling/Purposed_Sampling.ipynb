{
 "cells": [
  {
   "cell_type": "code",
   "execution_count": 1,
   "metadata": {},
   "outputs": [],
   "source": [
    "import os\n",
    "import re\n",
    "from pathlib import Path\n",
    "import itertools\n",
    "import numpy as np\n",
    "import pandas as pd"
   ]
  },
  {
   "cell_type": "code",
   "execution_count": 2,
   "metadata": {},
   "outputs": [],
   "source": [
    "def numericalSort(value):\n",
    "    numbers = re.compile(r'(\\d)+')\n",
    "    parts = numbers.split(value)\n",
    "    parts[1::2] = map(int, parts[1::2])\n",
    "    return parts\n",
    "\n",
    "def isMoreThanOneElement(array: list) -> bool:\n",
    "    if len(array) > 1:\n",
    "        return True\n",
    "    else:\n",
    "        return False\n",
    "    \n",
    "def getFilePaths(dataset_dir: Path, labels: str) -> list:\n",
    "    return [f for f in os.listdir(dataset_dir / labels) if re.search(r'(.jpg)$', f)]"
   ]
  },
  {
   "cell_type": "markdown",
   "metadata": {},
   "source": [
    "### Step 1: Create Negative Pairs"
   ]
  },
  {
   "cell_type": "code",
   "execution_count": 51,
   "metadata": {},
   "outputs": [],
   "source": [
    "negative_pairs = [\n",
    "    [64, 65, 71],\n",
    "    [3, 4],\n",
    "    [5, 6],\n",
    "    [7, 8],\n",
    "    [10, 11, 12],\n",
    "    [14, 15],\n",
    "    [16, 17],\n",
    "    [19, 20],\n",
    "    [22, 23, 24, 25, 26],\n",
    "    [27, 28, 29],\n",
    "    [32, 33],\n",
    "    [34, 35],\n",
    "    [68, 69, 72, 73, 74, 75, 79],\n",
    "    [36, 37, 38, 39, 40],\n",
    "    [42, 43],\n",
    "    [45, 46, 47, 48],\n",
    "    [49, 50, 51, 66],\n",
    "    [56, 57],\n",
    "    [76, 77],\n",
    "    [62, 63, 67]\n",
    "]"
   ]
  },
  {
   "cell_type": "markdown",
   "metadata": {},
   "source": [
    "### Step 2: Populate Negative Pairs Combinations"
   ]
  },
  {
   "cell_type": "code",
   "execution_count": 52,
   "metadata": {},
   "outputs": [],
   "source": [
    "for i in range(len(negative_pairs)):\n",
    "    combinations = list(itertools.combinations(negative_pairs[i], 2))\n",
    "    negative_pairs[i] = combinations"
   ]
  },
  {
   "cell_type": "markdown",
   "metadata": {},
   "source": [
    "### Step 3: Create Image Negative Pairs"
   ]
  },
  {
   "cell_type": "code",
   "execution_count": 53,
   "metadata": {},
   "outputs": [],
   "source": [
    "dataset_dir = Path(\"curated_dataset\")\n",
    "\n",
    "image_negative_pairs = []\n",
    "for combinations in negative_pairs:\n",
    "\n",
    "    for pair in combinations:\n",
    "        filepath1 = getFilePaths(dataset_dir, str(pair[0]))\n",
    "        filepath2 = getFilePaths(dataset_dir, str(pair[1]))\n",
    "\n",
    "        for i in range(len(filepath1)):\n",
    "            for j in range(len(filepath2)):\n",
    "                image_negative_pairs.append([filepath1[i], filepath2[j], 1, str(pair[0]), str(pair[1])])\n",
    "image_negative_pairs = np.asarray(image_negative_pairs)"
   ]
  },
  {
   "cell_type": "code",
   "execution_count": 54,
   "metadata": {},
   "outputs": [
    {
     "data": {
      "text/plain": [
       "array([['20231017_135009.jpg', '20231017_135122.jpg', '1', '64', '65'],\n",
       "       ['20231017_135009.jpg', '20231017_135128.jpg', '1', '64', '65'],\n",
       "       ['20231017_135018.jpg', '20231017_135122.jpg', '1', '64', '65'],\n",
       "       ['20231017_135018.jpg', '20231017_135128.jpg', '1', '64', '65'],\n",
       "       ['20231017_135009.jpg', '20231017_140906.jpg', '1', '64', '71']],\n",
       "      dtype='<U19')"
      ]
     },
     "execution_count": 54,
     "metadata": {},
     "output_type": "execute_result"
    }
   ],
   "source": [
    "image_negative_pairs[:5]"
   ]
  },
  {
   "cell_type": "markdown",
   "metadata": {},
   "source": [
    "### Step 4: Create Image Positive Pairs"
   ]
  },
  {
   "cell_type": "code",
   "execution_count": 86,
   "metadata": {},
   "outputs": [],
   "source": [
    "dataset_dir = Path(\"curated_dataset\")\n",
    "\n",
    "image_positive_pairs = []\n",
    "for label in os.listdir(dataset_dir):\n",
    "    \n",
    "    filepath = getFilePaths(dataset_dir, label)\n",
    "    \n",
    "    if isMoreThanOneElement(filepath):\n",
    "        combinations = list(itertools.combinations(filepath, 2))\n",
    "        for combination in combinations:\n",
    "            image_positive_pairs.append([combination[0], combination[1], 0, label, label])\n",
    "image_positive_pairs = np.asarray(image_positive_pairs)"
   ]
  },
  {
   "cell_type": "code",
   "execution_count": 87,
   "metadata": {},
   "outputs": [
    {
     "data": {
      "text/plain": [
       "array([['20231016_114833.jpg', '20231016_114838.jpg', '0', '10', '10'],\n",
       "       ['20231016_145128.jpg', '20231016_145132.jpg', '0', '11', '11'],\n",
       "       ['20231016_145630.jpg', '20231016_145637.jpg', '0', '12', '12'],\n",
       "       ['20231016_114616.jpg', '20231016_114646.jpg', '0', '14', '14'],\n",
       "       ['20231016_135246.jpg', '20231016_135308.jpg', '0', '15', '15']],\n",
       "      dtype='<U19')"
      ]
     },
     "execution_count": 87,
     "metadata": {},
     "output_type": "execute_result"
    }
   ],
   "source": [
    "image_positive_pairs[:5]"
   ]
  },
  {
   "cell_type": "markdown",
   "metadata": {},
   "source": [
    "### Step 5: Combining The Image Positive and Negative Pairs"
   ]
  },
  {
   "cell_type": "code",
   "execution_count": 88,
   "metadata": {},
   "outputs": [],
   "source": [
    "dataset = np.r_[image_positive_pairs, image_negative_pairs]\n",
    "df = pd.DataFrame(dataset, columns=['image1', 'image2', 'similarity', 'label1', 'label2'])\n",
    "df.to_csv('dataset.csv', encoding=\"utf-8\", index=False)"
   ]
  }
 ],
 "metadata": {
  "kernelspec": {
   "display_name": "Python 3 (ipykernel)",
   "language": "python",
   "name": "python3"
  },
  "language_info": {
   "codemirror_mode": {
    "name": "ipython",
    "version": 3
   },
   "file_extension": ".py",
   "mimetype": "text/x-python",
   "name": "python",
   "nbconvert_exporter": "python",
   "pygments_lexer": "ipython3",
   "version": "3.11.4"
  }
 },
 "nbformat": 4,
 "nbformat_minor": 2
}
