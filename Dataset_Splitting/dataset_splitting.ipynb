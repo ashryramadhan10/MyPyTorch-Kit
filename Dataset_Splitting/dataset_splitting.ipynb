{
 "cells": [
  {
   "cell_type": "code",
   "execution_count": 3,
   "metadata": {},
   "outputs": [],
   "source": [
    "import torch\n",
    "from torch.utils.data import Dataset, DataLoader, Subset\n",
    "\n",
    "import torchvision\n",
    "import torchvision.transforms as transforms\n",
    "import torchvision.datasets as datasets\n",
    "\n",
    "from sklearn.model_selection import train_test_split\n",
    "import numpy as np"
   ]
  },
  {
   "cell_type": "code",
   "execution_count": null,
   "metadata": {},
   "outputs": [],
   "source": [
    "class CustomDataset(Dataset):\n",
    "\n",
    "    def __init__(self, dataset, transform=None):\n",
    "        self.data, self.targets = self.split_data_with_targets(dataset)\n",
    "        self.transform = transform\n",
    "\n",
    "    def __len__(self):\n",
    "        return len(self.data)\n",
    "\n",
    "    def __getitem__(self, index):\n",
    "        # grab the data\n",
    "        image = self.data[index]\n",
    "        label = self.targets[index]\n",
    "\n",
    "        # check for transform\n",
    "        if self.transform is not None:\n",
    "            image = self.transform(image)\n",
    "\n",
    "        return image, torch.FloatTensor([label])\n",
    "    \n",
    "    def split_data_with_targets(self, dataset):\n",
    "        images = []\n",
    "        labels = []\n",
    "        for image, label in dataset:\n",
    "            images.append(image)\n",
    "            labels.append(label)\n",
    "        return images, labels"
   ]
  },
  {
   "cell_type": "code",
   "execution_count": null,
   "metadata": {},
   "outputs": [],
   "source": [
    "# resize the image and transform to tensor\n",
    "transformations = transforms.Compose([transforms.Resize((224,224)),\n",
    "    transforms.ToTensor(),\n",
    "    transforms.Normalize(mean=[0.485, 0.456, 0.406], std=[0.229, 0.224, 0.225])\n",
    "])\n",
    "\n",
    "dataset = datasets.ImageFolder(root=\"dataset\")\n",
    "custom_dataset = CustomDataset(dataset=dataset, transform=transformations)"
   ]
  },
  {
   "cell_type": "markdown",
   "metadata": {},
   "source": [
    "1. stratified sampling"
   ]
  },
  {
   "cell_type": "code",
   "execution_count": null,
   "metadata": {},
   "outputs": [],
   "source": [
    "# Stratified Sampling for train and val\n",
    "train_idx, validation_idx = train_test_split(np.arange(len(custom_dataset)),\n",
    "                                             test_size=0.1,\n",
    "                                             random_state=1,\n",
    "                                             shuffle=True,\n",
    "                                             stratify=custom_dataset.targets)\n",
    "\n",
    "# Subset dataset for train and val\n",
    "training_dataset = Subset(custom_dataset, train_idx)\n",
    "validation_dataset = Subset(custom_dataset, validation_idx)"
   ]
  },
  {
   "cell_type": "markdown",
   "metadata": {},
   "source": [
    "2. random shuffle sampling"
   ]
  },
  {
   "cell_type": "code",
   "execution_count": null,
   "metadata": {},
   "outputs": [],
   "source": [
    "# Stratified Sampling for train and val\n",
    "train_idx, validation_idx = train_test_split(np.arange(len(custom_dataset)),\n",
    "                                             test_size=0.1,\n",
    "                                             random_state=1,\n",
    "                                             shuffle=True)\n",
    "\n",
    "# Subset dataset for train and val\n",
    "training_dataset = Subset(custom_dataset, train_idx)\n",
    "validation_dataset = Subset(custom_dataset, validation_idx)"
   ]
  }
 ],
 "metadata": {
  "kernelspec": {
   "display_name": "experimental",
   "language": "python",
   "name": "python3"
  },
  "language_info": {
   "codemirror_mode": {
    "name": "ipython",
    "version": 3
   },
   "file_extension": ".py",
   "mimetype": "text/x-python",
   "name": "python",
   "nbconvert_exporter": "python",
   "pygments_lexer": "ipython3",
   "version": "3.11.4"
  }
 },
 "nbformat": 4,
 "nbformat_minor": 2
}
